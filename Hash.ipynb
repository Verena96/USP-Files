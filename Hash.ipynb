{
 "cells": [
  {
   "cell_type": "code",
   "execution_count": 2,
   "id": "54e7a338",
   "metadata": {},
   "outputs": [],
   "source": [
    "from random import randrange"
   ]
  },
  {
   "cell_type": "code",
   "execution_count": 26,
   "id": "e3b82490",
   "metadata": {},
   "outputs": [],
   "source": [
    "\n",
    "def hash(x, M):\n",
    "    return x%M # valor da função\n",
    "def hash2():\n",
    "    return 3 # valor da função - passo\n",
    "\n",
    "def insere_hash(a, x):\n",
    "    M = len(a)\n",
    "    cont = 0\n",
    "    i = hash(x, M)\n",
    "    #k = hash2()\n",
    "    # procura a próxima posição livre\n",
    "    while a[i] != None:\n",
    "        if a[i] == x: return -1 # valor já existente na tabela\n",
    "        cont += 1 # conta os elementos da tabela\n",
    "        if cont == M: return -2 # tabela cheia\n",
    "        #i = (i + k) % M # tabela circular\n",
    "        i = (i+1) % M\n",
    "        # achamos uma posição livre - coloque x nesta posição\n",
    "    a[i] = x\n",
    "    return i\n",
    "\n",
    "def busca_hash(a, x):\n",
    "    M = len(a)\n",
    "    cont = 0\n",
    "    i = hash(x, M)\n",
    "    #k = hash2()\n",
    "    # procura x a partir da posição i\n",
    "    while a[i] != x:\n",
    "        if a[i] == None: return -1 # não achou x, pois há uma vazia\n",
    "        cont += 1 # conta os elementos da tabela\n",
    "        if cont == M: return -2; # a tabela está cheia\n",
    "        #i = (i + k) % M # tabela circular\n",
    "        i = (i+1)%M\n",
    "    # encontrou\n",
    "    return i, cont+1\n",
    "\n"
   ]
  },
  {
   "cell_type": "code",
   "execution_count": 24,
   "id": "9612f124",
   "metadata": {},
   "outputs": [
    {
     "name": "stdout",
     "output_type": "stream",
     "text": [
      "[0, 701, 301, 3, 703, 5, 906, 805, 808, 9, 103, 4, 204, 313, 714, 615, 414, 817, 218, 213, 815, 621, 822, 422, 24, 925, 626, 227, 824, 29, 610, 431, 713, 233, 96, 235, None, 237, 538, 639, 240, 339, 242, 43, 739, 644, 941, 647, 944, 749, 349, 950, 150, 853, 750, 453, 956, 656, 358, 759, None, None, 462, 62, 464, 662, 565, 566, 463, 169, 970, 471, 72, 872, 574, 174, 869, 577, 377, 179, 380, 481, 678, 783, 873, 185, 878, 87, 88, 788, 990, 91, 190, 193, None, 695, 496, 596, 597, 397]\n"
     ]
    }
   ],
   "source": [
    "#exemplo\n",
    "tmax = 100\n",
    "ne = 100\n",
    "tab = tmax *[None]\n",
    "elem = [randrange(1000) for k in range(ne)]\n",
    "for k in range(ne):insere_hash(tab,elem[k])\n",
    "print(tab)\n",
    "#for k in range(ne):\n",
    " #   x,y = busca_hash(tab,elem[k])\n",
    "  #  print(elem[k],':',y,'comparacoes')"
   ]
  },
  {
   "cell_type": "code",
   "execution_count": 47,
   "id": "5065fc34",
   "metadata": {},
   "outputs": [
    {
     "name": "stdout",
     "output_type": "stream",
     "text": [
      "antonio carlos : 1436\n",
      "carlos antonio : 1436\n",
      "maria budega : 1170\n",
      "joao carlos : 1101\n",
      "leo silva : 895\n",
      "bibibiu bobo : 1176\n",
      "nina maria : 976\n",
      "lepo leleco : 1092\n",
      "[None, 'joao carlos', None, None, None, None, None, None, None, None, None, None, None, None, None, None, None, None, None, None, None, None, None, None, None, None, None, None, None, None, None, None, None, None, None, None, 'antonio carlos', None, None, 'carlos antonio', None, None, None, None, None, None, None, None, None, None, None, None, None, None, None, None, None, None, None, None, None, None, None, None, None, None, None, None, None, None, 'maria budega', None, None, None, None, None, 'bibibiu bobo', None, None, 'nina maria', None, None, None, None, None, None, None, None, None, None, None, None, 'lepo leleco', None, None, 'leo silva', None, None, None, None]\n"
     ]
    }
   ],
   "source": [
    "#Exemplo com string\n",
    "\n",
    "#Hash para string\n",
    "def hash(astr, M):\n",
    "    s = 0\n",
    "    # s conterá a soma dos valores numéricos dos caracteres\n",
    "    for chr in astr:\n",
    "        s = s + ord(chr)\n",
    "    print(astr,':',s)\n",
    "    return s % M\n",
    "\n",
    "def hash2():\n",
    "    return 3 # valor da função - passo\n",
    "\n",
    "#Insere hash\n",
    "def insere_hash(a, x):\n",
    "    M = len(a)\n",
    "    cont = 0\n",
    "    i = hash(x, M)\n",
    "    k = hash2()\n",
    "    # procura a próxima posição livre\n",
    "    while a[i] != None:\n",
    "        if a[i] == x: return -1 # valor já existente na tabela\n",
    "        cont += 1 # conta os elementos da tabela\n",
    "        if cont == M: return -2 # tabela cheia\n",
    "        i = (i + k) % M # tabela circular\n",
    "        #i = (i+1) % M\n",
    "        # achamos uma posição livre - coloque x nesta posição\n",
    "    a[i] = x\n",
    "    return i\n",
    "\n",
    "def busca_hash(a, x):\n",
    "    M = len(a)\n",
    "    cont = 0\n",
    "    i = hash(x, M)\n",
    "    k = hash2()\n",
    "    # procura x a partir da posição i\n",
    "    while a[i] != x:\n",
    "        if a[i] == None: return -1 # não achou x, pois há uma vazia\n",
    "        cont += 1 # conta os elementos da tabela\n",
    "        if cont == M: return -2; # a tabela está cheia\n",
    "        i = (i + k) % M # tabela circular\n",
    "        #i = (i+1)%M\n",
    "    # encontrou\n",
    "    return i#, cont+1\n",
    "\n",
    "#Teste\n",
    "#antonio carlos - 1436 - 1436%100 = 36 - nome na posicao 36\n",
    "tmax = 100\n",
    "tab = tmax*[None]\n",
    "elem = ['antonio carlos','carlos antonio','maria budega','joao carlos','leo silva','bibibiu bobo','nina maria','lepo leleco']\n",
    "for el in elem:\n",
    "    insere_hash(tab,el)\n",
    "print(tab)"
   ]
  },
  {
   "cell_type": "code",
   "execution_count": 48,
   "id": "5204f257",
   "metadata": {},
   "outputs": [
    {
     "name": "stdout",
     "output_type": "stream",
     "text": [
      "joao carlos : 1101\n"
     ]
    },
    {
     "data": {
      "text/plain": [
       "1"
      ]
     },
     "execution_count": 48,
     "metadata": {},
     "output_type": "execute_result"
    }
   ],
   "source": [
    "#Para buscar a posicao na tabela\n",
    "busca_hash(tab,'joao carlos')"
   ]
  },
  {
   "cell_type": "code",
   "execution_count": 69,
   "id": "20aacb9e",
   "metadata": {},
   "outputs": [
    {
     "name": "stdout",
     "output_type": "stream",
     "text": [
      "antonio carlos : 1436\n",
      "carlos antonio : 1436\n",
      "carlos antonio : 1436\n",
      "maria budega : 1170\n",
      "joao carlos : 1101\n",
      "leo silva : 895\n",
      "bibibiu bobo : 1176\n",
      "nina maria : 976\n",
      "lepo leleco : 1092\n",
      "[None, 'joao carlos', None, None, None, None, None, None, None, None, None, None, None, None, None, None, None, None, None, None, None, None, None, None, None, None, None, None, None, None, None, None, None, None, None, None, ['antonio carlos', 'carlos antonio'], None, None, None, None, None, None, None, None, None, None, None, None, None, None, None, None, None, None, None, None, None, None, None, None, None, None, None, None, None, None, None, None, None, 'maria budega', None, None, None, None, None, ['bibibiu bobo', 'nina maria'], None, None, None, None, None, None, None, None, None, None, None, None, None, None, None, 'lepo leleco', None, None, 'leo silva', None, None, None, None]\n"
     ]
    }
   ],
   "source": [
    "#Hash para string\n",
    "def hash(astr, M):\n",
    "    s = 0\n",
    "    # s conterá a soma dos valores numéricos dos caracteres\n",
    "    for chr in astr:\n",
    "        s = s + ord(chr)\n",
    "    print(astr,':',s)\n",
    "    return s % M\n",
    "\n",
    "#Funcao hash para o passo\n",
    "def hash2():\n",
    "    return 3 # valor da função - passo\n",
    "\n",
    "\n",
    "def insere_hash(a, x):\n",
    "    M = len(a)\n",
    "    i = hash(x, M)\n",
    "    #p = hash2()\n",
    "    \n",
    "    # tentar inserir x na tabela\n",
    "    if a[i] is None:\n",
    "        a[i] = x\n",
    "        return (i, None) #aqui nosso a[i] não é lista (não tem elemento nele), é vazio\n",
    "    \n",
    "    # se a[i] é uma lista\n",
    "    if type(a[i]) is list:\n",
    "        # procura x em a[i]\n",
    "        if x in a[i]:\n",
    "            return (None, None) # x já está na tabela\n",
    "    \n",
    "        # pode inserir x na lista a[i]\n",
    "        k = len(a[i])\n",
    "        a[i].append(x)\n",
    "        return (i, k)\n",
    "    # a[i] é um elemento simples\n",
    "    if a[i] == x:\n",
    "        return (None, None) # já está\n",
    "    # iniciar a lista em a[i] e inserir elemento\n",
    "    a[i] = [a[i], x]\n",
    "    \n",
    "    return(i, 1)\n",
    "\n",
    "# Procura x na tabela de hash a\n",
    "# Devolve (None, None) - se x não está na tabela\n",
    "# (i, None) - se x == a[i]\n",
    "# (i, j) - se x == a[i][j]\n",
    "\n",
    "def busca_hash(a, x):\n",
    "    M = len(a)\n",
    "    i = hash(x, M)\n",
    "    # x não está na tabela\n",
    "    if a[i] is None:\n",
    "        return (None, None)\n",
    "    # se a[i] é uma lista\n",
    "    if type(a[i]) is list:\n",
    "    # procura x em a[i]\n",
    "        for k in range(len(a[i])):\n",
    "            if x == a[i][k]:\n",
    "                return (i, k)\n",
    "        # não encontrou\n",
    "        return (None, None)\n",
    "    # a[i] é um elemento simples\n",
    "    if a[i] == x:\n",
    "        return (i, None) # encontrou\n",
    "    # não encontrou\n",
    "    return(None, None)\n",
    "\n",
    "#Teste\n",
    "#antonio carlos - 1436 - 1436%100 = 36 - nome na posicao 36\n",
    "tmax = 100\n",
    "tab = tmax*[None]\n",
    "elem = ['antonio carlos','carlos antonio','carlos antonio','maria budega','joao carlos','leo silva','bibibiu bobo','nina maria','lepo leleco']\n",
    "for el in elem:\n",
    "    insere_hash(tab,el)\n",
    "print(tab)"
   ]
  },
  {
   "cell_type": "code",
   "execution_count": 78,
   "id": "5f9ddf08",
   "metadata": {},
   "outputs": [],
   "source": [
    "for e in tab:\n",
    "\n",
    "    if type(e) == list:\n",
    "        i = tab.index(e)\n",
    "        e.append(i)"
   ]
  },
  {
   "cell_type": "code",
   "execution_count": 80,
   "id": "d93cf0eb",
   "metadata": {},
   "outputs": [],
   "source": [
    "#Leia e faz a divisão em TAB\n",
    "TAB=[str(line).replace('\\n','').split(',') for line in open('arq1.txt')]\n",
    "TAB1 = TAB\n",
    "TAB2 = TAB"
   ]
  },
  {
   "cell_type": "code",
   "execution_count": 87,
   "id": "584b8a3e",
   "metadata": {},
   "outputs": [],
   "source": [
    "#Pega apenas lista dos nomes\n",
    "lista_nomes = []\n",
    "nomes = [x[1].lower().split() for x in TAB]\n",
    "\n",
    "for x in nomes:\n",
    "    lista_nomes += x"
   ]
  },
  {
   "cell_type": "code",
   "execution_count": 91,
   "id": "85e15e96",
   "metadata": {},
   "outputs": [],
   "source": [
    "elem = list(set(lista_nomes))\n"
   ]
  },
  {
   "cell_type": "code",
   "execution_count": 115,
   "id": "169a6e70",
   "metadata": {},
   "outputs": [],
   "source": [
    "#Hash para string\n",
    "def hash(astr, M):\n",
    "    s = 0\n",
    "    # s conterá a soma dos valores numéricos dos caracteres\n",
    "    for chr in astr:\n",
    "        s = s + ord(chr)\n",
    "    print(astr,':',s)\n",
    "    return s % M\n",
    "\n",
    "#Funcao hash para o passo\n",
    "def hash2():\n",
    "    return 3 # valor da função - passo\n",
    "\n",
    "def insere_hash(a, x):\n",
    "    M = len(a)\n",
    "    cont = 0 \n",
    "    i = hash(x, M) #numero - s%M - posicao na tabela\n",
    "    p = hash2() #pulo\n",
    "    \n",
    "    # tentar inserir x na tabela\n",
    "    if a[i] is None:\n",
    "        a[i] = [x]\n",
    "        return (i, None) #cria nova lista com nome\n",
    "    \n",
    "    while a[i] != None:\n",
    "    \n",
    "    # se a[i] é uma lista\n",
    "        if type(a[i]) is list:\n",
    "        # procura x em a[i]\n",
    "            if x in a[i]:\n",
    "                cont += 1\n",
    "                return (None, None) # x já está na tabela\n",
    "\n",
    "            # pode inserir x na lista a[i]\n",
    "            k = len(a[i]) #tamanho do elemento lista\n",
    "            a[i].append(x)\n",
    "            return (i, k)\n",
    "\n",
    "        # a[i] é um elemento simples\n",
    "        #if a[i] == x:\n",
    "         #   cont += 1\n",
    "          #  return (None, None) # já está na tabela\n",
    "\n",
    "\n",
    "        if cont == M: return -2\n",
    "        i = (i + p) % M # tabela circular\n",
    "        # iniciar a lista em a[i] e inserir elemento\n",
    "        a[i] = [a[i], x]\n",
    "        #a[i] = x\n",
    "\n",
    "    return(i, 1)"
   ]
  },
  {
   "cell_type": "code",
   "execution_count": 128,
   "id": "c191b9ea",
   "metadata": {},
   "outputs": [
    {
     "name": "stdout",
     "output_type": "stream",
     "text": [
      "antonio : 760\n",
      "maria : 522\n",
      "oinotna : 760\n",
      "nina : 422\n",
      "lepo : 432\n",
      "iaram : 522\n",
      "sara : 423\n",
      "silva : 543\n",
      "aras : 423\n",
      "[None, None, None, None, None, None, None, ['lepo'], None, None, None, None, ['antonio', 'maria', 'oinotna', 'iaram'], None, ['nina'], ['sara', 'aras'], ['silva']]\n"
     ]
    }
   ],
   "source": [
    "tmax = 17\n",
    "tab = tmax*[None]\n",
    "#elem = ['antonio carlos','carlos antonio','carlos antonio','maria budega','joao carlos','carlos joao',\n",
    "#        'leo silva','bibibiu bobo','nina maria','lepo leleco','maria nina']\n",
    "\n",
    "elem = ['antonio','maria','oinotna','nina','lepo','iaram','sara','silva','aras']\n",
    "\n",
    "for el in elem:\n",
    "    insere_hash(tab,el)\n",
    "print(tab)"
   ]
  },
  {
   "cell_type": "code",
   "execution_count": 127,
   "id": "e648e288",
   "metadata": {},
   "outputs": [
    {
     "data": {
      "text/plain": [
       "12"
      ]
     },
     "execution_count": 127,
     "metadata": {},
     "output_type": "execute_result"
    }
   ],
   "source": [
    "760%17"
   ]
  },
  {
   "cell_type": "code",
   "execution_count": 124,
   "id": "aa1cbfba",
   "metadata": {},
   "outputs": [
    {
     "data": {
      "text/plain": [
       "13"
      ]
     },
     "execution_count": 124,
     "metadata": {},
     "output_type": "execute_result"
    }
   ],
   "source": [
    "1101%17"
   ]
  },
  {
   "cell_type": "code",
   "execution_count": 121,
   "id": "dc57fa91",
   "metadata": {},
   "outputs": [
    {
     "data": {
      "text/plain": [
       "8"
      ]
     },
     "execution_count": 121,
     "metadata": {},
     "output_type": "execute_result"
    }
   ],
   "source": [
    "1436%17"
   ]
  },
  {
   "cell_type": "code",
   "execution_count": 142,
   "id": "ba129a7a",
   "metadata": {},
   "outputs": [],
   "source": [
    "#Insere hash\n",
    "def insere_hash(a, x):\n",
    "    M = len(a)\n",
    "    cont = 0\n",
    "    i = hash(x, M)\n",
    "    k = hash2()\n",
    "    \n",
    "    # tentar inserir x na tabela\n",
    "    if a[i] is None:\n",
    "        a[i] = [x]\n",
    "        return (i, None) #cria nova lista com nome\n",
    "    \n",
    "    # procura a próxima posição livre\n",
    "    while a[i] != None:\n",
    "        if a[i][0] == [x][0]:\n",
    "            a[i].append(0)\n",
    "            return -1 # valor já existente na tabela\n",
    "        cont += 1 # conta os elementos da tabela\n",
    "        if cont == M: \n",
    "            return -2 # tabela cheia\n",
    "        i = (i + k) % M # tabela circular\n",
    "        #i = (i+1) % M\n",
    "        # achamos uma posição livre - coloque x nesta posição\n",
    "    a[i] = [x]\n",
    "    return i\n"
   ]
  },
  {
   "cell_type": "code",
   "execution_count": 141,
   "id": "8d7ed00d",
   "metadata": {},
   "outputs": [
    {
     "name": "stdout",
     "output_type": "stream",
     "text": [
      "antonio : 760\n",
      "antonio : 760\n",
      "maria : 522\n",
      "oinotna : 760\n",
      "nina : 422\n",
      "lepo : 432\n",
      "iaram : 522\n",
      "sara : 423\n",
      "silva : 543\n",
      "aras : 423\n",
      "maria : 522\n",
      "maria : 522\n",
      "[None, ['oinotna'], ['maria'], None, ['iaram'], None, None, ['lepo'], None, None, ['sara'], None, ['antonio', 0], ['aras'], ['nina'], ['maria', 0], ['silva']]\n"
     ]
    }
   ],
   "source": [
    "tmax = 17\n",
    "tab = tmax*[None]\n",
    "#elem = ['antonio carlos','carlos antonio','carlos antonio','maria budega','joao carlos','carlos joao',\n",
    "#        'leo silva','bibibiu bobo','nina maria','lepo leleco','maria nina']\n",
    "\n",
    "elem = ['antonio','antonio','maria','oinotna','nina','lepo','iaram','sara','silva','aras','maria','maria']\n",
    "\n",
    "for el in elem:\n",
    "    insere_hash(tab,el)\n",
    "print(tab)"
   ]
  },
  {
   "cell_type": "code",
   "execution_count": 135,
   "id": "8a5311aa",
   "metadata": {},
   "outputs": [
    {
     "data": {
      "text/plain": [
       "12"
      ]
     },
     "execution_count": 135,
     "metadata": {},
     "output_type": "execute_result"
    }
   ],
   "source": [
    "760%17"
   ]
  },
  {
   "cell_type": "code",
   "execution_count": 136,
   "id": "429ceecb",
   "metadata": {},
   "outputs": [
    {
     "data": {
      "text/plain": [
       "12"
      ]
     },
     "execution_count": 136,
     "metadata": {},
     "output_type": "execute_result"
    }
   ],
   "source": [
    "522%17"
   ]
  }
 ],
 "metadata": {
  "kernelspec": {
   "display_name": "Python 3",
   "language": "python",
   "name": "python3"
  },
  "language_info": {
   "codemirror_mode": {
    "name": "ipython",
    "version": 3
   },
   "file_extension": ".py",
   "mimetype": "text/x-python",
   "name": "python",
   "nbconvert_exporter": "python",
   "pygments_lexer": "ipython3",
   "version": "3.8.8"
  }
 },
 "nbformat": 4,
 "nbformat_minor": 5
}
