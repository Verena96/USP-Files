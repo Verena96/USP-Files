{
 "cells": [
  {
   "cell_type": "code",
   "execution_count": 1,
   "id": "6e8daa27",
   "metadata": {},
   "outputs": [],
   "source": [
    "from random import randrange"
   ]
  },
  {
   "cell_type": "code",
   "execution_count": 26,
   "id": "ee3644d4",
   "metadata": {},
   "outputs": [],
   "source": [
    "\n",
    "def hash(x, M):\n",
    "    return x%M # valor da função\n",
    "def hash2():\n",
    "    return 3 # valor da função - passo\n",
    "\n",
    "def insere_hash(a, x):\n",
    "    M = len(a)\n",
    "    cont = 0\n",
    "    i = hash(x, M)\n",
    "    #k = hash2()\n",
    "    # procura a próxima posição livre\n",
    "    while a[i] != None:\n",
    "        if a[i] == x: return -1 # valor já existente na tabela\n",
    "        cont += 1 # conta os elementos da tabela\n",
    "        if cont == M: return -2 # tabela cheia\n",
    "        #i = (i + k) % M # tabela circular\n",
    "        i = (i+1) % M\n",
    "        # achamos uma posição livre - coloque x nesta posição\n",
    "    a[i] = x\n",
    "    return i\n",
    "\n",
    "def busca_hash(a, x):\n",
    "    M = len(a)\n",
    "    cont = 0\n",
    "    i = hash(x, M)\n",
    "    #k = hash2()\n",
    "    # procura x a partir da posição i\n",
    "    while a[i] != x:\n",
    "        if a[i] == None: return -1 # não achou x, pois há uma vazia\n",
    "        cont += 1 # conta os elementos da tabela\n",
    "        if cont == M: return -2; # a tabela está cheia\n",
    "        #i = (i + k) % M # tabela circular\n",
    "        i = (i+1)%M\n",
    "    # encontrou\n",
    "    return i, cont+1\n",
    "\n"
   ]
  },
  {
   "cell_type": "code",
   "execution_count": 24,
   "id": "148e3d1e",
   "metadata": {},
   "outputs": [
    {
     "name": "stdout",
     "output_type": "stream",
     "text": [
      "[0, 701, 301, 3, 703, 5, 906, 805, 808, 9, 103, 4, 204, 313, 714, 615, 414, 817, 218, 213, 815, 621, 822, 422, 24, 925, 626, 227, 824, 29, 610, 431, 713, 233, 96, 235, None, 237, 538, 639, 240, 339, 242, 43, 739, 644, 941, 647, 944, 749, 349, 950, 150, 853, 750, 453, 956, 656, 358, 759, None, None, 462, 62, 464, 662, 565, 566, 463, 169, 970, 471, 72, 872, 574, 174, 869, 577, 377, 179, 380, 481, 678, 783, 873, 185, 878, 87, 88, 788, 990, 91, 190, 193, None, 695, 496, 596, 597, 397]\n"
     ]
    }
   ],
   "source": [
    "#exemplo\n",
    "tmax = 100\n",
    "ne = 100\n",
    "tab = tmax *[None]\n",
    "elem = [randrange(1000) for k in range(ne)]\n",
    "for k in range(ne):insere_hash(tab,elem[k])\n",
    "print(tab)\n",
    "#for k in range(ne):\n",
    " #   x,y = busca_hash(tab,elem[k])\n",
    "  #  print(elem[k],':',y,'comparacoes')"
   ]
  },
  {
   "cell_type": "code",
   "execution_count": 47,
   "id": "c3a8e604",
   "metadata": {},
   "outputs": [
    {
     "name": "stdout",
     "output_type": "stream",
     "text": [
      "antonio carlos : 1436\n",
      "carlos antonio : 1436\n",
      "maria budega : 1170\n",
      "joao carlos : 1101\n",
      "leo silva : 895\n",
      "bibibiu bobo : 1176\n",
      "nina maria : 976\n",
      "lepo leleco : 1092\n",
      "[None, 'joao carlos', None, None, None, None, None, None, None, None, None, None, None, None, None, None, None, None, None, None, None, None, None, None, None, None, None, None, None, None, None, None, None, None, None, None, 'antonio carlos', None, None, 'carlos antonio', None, None, None, None, None, None, None, None, None, None, None, None, None, None, None, None, None, None, None, None, None, None, None, None, None, None, None, None, None, None, 'maria budega', None, None, None, None, None, 'bibibiu bobo', None, None, 'nina maria', None, None, None, None, None, None, None, None, None, None, None, None, 'lepo leleco', None, None, 'leo silva', None, None, None, None]\n"
     ]
    }
   ],
   "source": [
    "#Exemplo com string\n",
    "\n",
    "#Hash para string\n",
    "def hash(astr, M):\n",
    "    s = 0\n",
    "    # s conterá a soma dos valores numéricos dos caracteres\n",
    "    for chr in astr:\n",
    "        s = s + ord(chr)\n",
    "    print(astr,':',s)\n",
    "    return s % M\n",
    "\n",
    "def hash2():\n",
    "    return 3 # valor da função - passo\n",
    "\n",
    "#Insere hash\n",
    "def insere_hash(a, x):\n",
    "    M = len(a)\n",
    "    cont = 0\n",
    "    i = hash(x, M)\n",
    "    k = hash2()\n",
    "    # procura a próxima posição livre\n",
    "    while a[i] != None:\n",
    "        if a[i] == x: return -1 # valor já existente na tabela\n",
    "        cont += 1 # conta os elementos da tabela\n",
    "        if cont == M: return -2 # tabela cheia\n",
    "        i = (i + k) % M # tabela circular\n",
    "        #i = (i+1) % M\n",
    "        # achamos uma posição livre - coloque x nesta posição\n",
    "    a[i] = x\n",
    "    return i\n",
    "\n",
    "def busca_hash(a, x):\n",
    "    M = len(a)\n",
    "    cont = 0\n",
    "    i = hash(x, M)\n",
    "    k = hash2()\n",
    "    # procura x a partir da posição i\n",
    "    while a[i] != x:\n",
    "        if a[i] == None: return -1 # não achou x, pois há uma vazia\n",
    "        cont += 1 # conta os elementos da tabela\n",
    "        if cont == M: return -2; # a tabela está cheia\n",
    "        i = (i + k) % M # tabela circular\n",
    "        #i = (i+1)%M\n",
    "    # encontrou\n",
    "    return i#, cont+1\n",
    "\n",
    "#Teste\n",
    "#antonio carlos - 1436 - 1436%100 = 36 - nome na posicao 36\n",
    "tmax = 100\n",
    "tab = tmax*[None]\n",
    "elem = ['antonio carlos','carlos antonio','maria budega','joao carlos','leo silva','bibibiu bobo','nina maria','lepo leleco']\n",
    "for el in elem:\n",
    "    insere_hash(tab,el)\n",
    "print(tab)"
   ]
  },
  {
   "cell_type": "code",
   "execution_count": 48,
   "id": "e07a2029",
   "metadata": {},
   "outputs": [
    {
     "name": "stdout",
     "output_type": "stream",
     "text": [
      "joao carlos : 1101\n"
     ]
    },
    {
     "data": {
      "text/plain": [
       "1"
      ]
     },
     "execution_count": 48,
     "metadata": {},
     "output_type": "execute_result"
    }
   ],
   "source": [
    "#Para buscar a posicao na tabela\n",
    "busca_hash(tab,'joao carlos')"
   ]
  },
  {
   "cell_type": "code",
   "execution_count": 69,
   "id": "8374b02c",
   "metadata": {},
   "outputs": [
    {
     "name": "stdout",
     "output_type": "stream",
     "text": [
      "antonio carlos : 1436\n",
      "carlos antonio : 1436\n",
      "carlos antonio : 1436\n",
      "maria budega : 1170\n",
      "joao carlos : 1101\n",
      "leo silva : 895\n",
      "bibibiu bobo : 1176\n",
      "nina maria : 976\n",
      "lepo leleco : 1092\n",
      "[None, 'joao carlos', None, None, None, None, None, None, None, None, None, None, None, None, None, None, None, None, None, None, None, None, None, None, None, None, None, None, None, None, None, None, None, None, None, None, ['antonio carlos', 'carlos antonio'], None, None, None, None, None, None, None, None, None, None, None, None, None, None, None, None, None, None, None, None, None, None, None, None, None, None, None, None, None, None, None, None, None, 'maria budega', None, None, None, None, None, ['bibibiu bobo', 'nina maria'], None, None, None, None, None, None, None, None, None, None, None, None, None, None, None, 'lepo leleco', None, None, 'leo silva', None, None, None, None]\n"
     ]
    }
   ],
   "source": [
    "#Hash para string\n",
    "def hash(astr, M):\n",
    "    s = 0\n",
    "    # s conterá a soma dos valores numéricos dos caracteres\n",
    "    for chr in astr:\n",
    "        s = s + ord(chr)\n",
    "    print(astr,':',s)\n",
    "    return s % M\n",
    "\n",
    "#Funcao hash para o passo\n",
    "def hash2():\n",
    "    return 3 # valor da função - passo\n",
    "\n",
    "\n",
    "def insere_hash(a, x):\n",
    "    M = len(a)\n",
    "    i = hash(x, M)\n",
    "    #p = hash2()\n",
    "    \n",
    "    # tentar inserir x na tabela\n",
    "    if a[i] is None:\n",
    "        a[i] = x\n",
    "        return (i, None) #aqui nosso a[i] não é lista (não tem elemento nele), é vazio\n",
    "    \n",
    "    # se a[i] é uma lista\n",
    "    if type(a[i]) is list:\n",
    "        # procura x em a[i]\n",
    "        if x in a[i]:\n",
    "            return (None, None) # x já está na tabela\n",
    "    \n",
    "        # pode inserir x na lista a[i]\n",
    "        k = len(a[i])\n",
    "        a[i].append(x)\n",
    "        return (i, k)\n",
    "    # a[i] é um elemento simples\n",
    "    if a[i] == x:\n",
    "        return (None, None) # já está\n",
    "    # iniciar a lista em a[i] e inserir elemento\n",
    "    a[i] = [a[i], x]\n",
    "    \n",
    "    return(i, 1)\n",
    "\n",
    "# Procura x na tabela de hash a\n",
    "# Devolve (None, None) - se x não está na tabela\n",
    "# (i, None) - se x == a[i]\n",
    "# (i, j) - se x == a[i][j]\n",
    "\n",
    "def busca_hash(a, x):\n",
    "    M = len(a)\n",
    "    i = hash(x, M)\n",
    "    # x não está na tabela\n",
    "    if a[i] is None:\n",
    "        return (None, None)\n",
    "    # se a[i] é uma lista\n",
    "    if type(a[i]) is list:\n",
    "    # procura x em a[i]\n",
    "        for k in range(len(a[i])):\n",
    "            if x == a[i][k]:\n",
    "                return (i, k)\n",
    "        # não encontrou\n",
    "        return (None, None)\n",
    "    # a[i] é um elemento simples\n",
    "    if a[i] == x:\n",
    "        return (i, None) # encontrou\n",
    "    # não encontrou\n",
    "    return(None, None)\n",
    "\n",
    "#Teste\n",
    "#antonio carlos - 1436 - 1436%100 = 36 - nome na posicao 36\n",
    "tmax = 100\n",
    "tab = tmax*[None]\n",
    "elem = ['antonio carlos','carlos antonio','carlos antonio','maria budega','joao carlos','leo silva','bibibiu bobo','nina maria','lepo leleco']\n",
    "for el in elem:\n",
    "    insere_hash(tab,el)\n",
    "print(tab)"
   ]
  },
  {
   "cell_type": "code",
   "execution_count": 4,
   "id": "4866dafb",
   "metadata": {},
   "outputs": [],
   "source": [
    "#Leia e faz a divisão em TAB\n",
    "TAB=[str(line).replace('\\n','').split(',') for line in open('arq1.txt')]\n",
    "TAB1 = TAB\n",
    "TAB2 = TAB"
   ]
  },
  {
   "cell_type": "code",
   "execution_count": 63,
   "id": "6bf710ae",
   "metadata": {},
   "outputs": [],
   "source": [
    "\n",
    "\n",
    "def insere_hash(a, x):\n",
    "    M = len(a)\n",
    "    cont = 0 \n",
    "    i = hash(x, M) #numero - s%M - posicao na tabela\n",
    "    p = hash2() #pulo\n",
    "    \n",
    "    # tentar inserir x na tabela\n",
    "    if a[i] is None:\n",
    "        a[i] = [x]\n",
    "        return (i, None) #cria nova lista com nome\n",
    "    \n",
    "    while a[i] != None:\n",
    "    \n",
    "    # se a[i] é uma lista\n",
    "        if type(a[i]) is list:\n",
    "        # procura x em a[i]\n",
    "            if x in a[i]:\n",
    "                cont += 1\n",
    "                return (None, None) # x já está na tabela\n",
    "\n",
    "            # pode inserir x na lista a[i]\n",
    "            k = len(a[i]) #tamanho do elemento lista\n",
    "            a[i].append(x)\n",
    "            return (i, k)\n",
    "\n",
    "        # a[i] é um elemento simples\n",
    "        #if a[i] == x:\n",
    "         #   cont += 1\n",
    "          #  return (None, None) # já está na tabela\n",
    "\n",
    "\n",
    "        if cont == M: return -2\n",
    "        i = (i + p) % M # tabela circular\n",
    "        # iniciar a lista em a[i] e inserir elemento\n",
    "        a[i] = [a[i], x]\n",
    "        #a[i] = x\n",
    "\n",
    "    return(i, 1)"
   ]
  },
  {
   "cell_type": "code",
   "execution_count": 128,
   "id": "62cecad6",
   "metadata": {},
   "outputs": [
    {
     "name": "stdout",
     "output_type": "stream",
     "text": [
      "antonio : 760\n",
      "maria : 522\n",
      "oinotna : 760\n",
      "nina : 422\n",
      "lepo : 432\n",
      "iaram : 522\n",
      "sara : 423\n",
      "silva : 543\n",
      "aras : 423\n",
      "[None, None, None, None, None, None, None, ['lepo'], None, None, None, None, ['antonio', 'maria', 'oinotna', 'iaram'], None, ['nina'], ['sara', 'aras'], ['silva']]\n"
     ]
    }
   ],
   "source": [
    "tmax = 17\n",
    "tab = tmax*[None]\n",
    "#elem = ['antonio carlos','carlos antonio','carlos antonio','maria budega','joao carlos','carlos joao',\n",
    "#        'leo silva','bibibiu bobo','nina maria','lepo leleco','maria nina']\n",
    "\n",
    "elem = ['antonio','maria','oinotna','nina','lepo','iaram','sara','silva','aras']\n",
    "\n",
    "for el in elem:\n",
    "    insere_hash(tab,el)\n",
    "print(tab)"
   ]
  },
  {
   "cell_type": "code",
   "execution_count": 171,
   "id": "7a0bfcc1",
   "metadata": {},
   "outputs": [],
   "source": [
    "def find_indexes(l,x):\n",
    "    #indexes = []\n",
    "    x = x.lower()\n",
    "    for i in range(len(l) -1):\n",
    "        if x in l[i][1].lower():#.split():\n",
    "            idx = l.index(l[i])\n",
    "            #indexes += [idx]\n",
    "    \n",
    "    return idx\n",
    "    \n",
    "    "
   ]
  },
  {
   "cell_type": "code",
   "execution_count": 177,
   "id": "c990e5cb",
   "metadata": {},
   "outputs": [
    {
     "data": {
      "text/plain": [
       "['Maria', 0, 70, 8, 74, 77, 78, 79, 80, 81, 82, 83, 23, 56, 27, 29, 62]"
      ]
     },
     "execution_count": 177,
     "metadata": {},
     "output_type": "execute_result"
    }
   ],
   "source": [
    "a = ['Maria']\n",
    "x = find_indexes(TAB,'Senizio')\n",
    "list(set(a+x+x))"
   ]
  },
  {
   "cell_type": "code",
   "execution_count": 85,
   "id": "88ac3b5a",
   "metadata": {},
   "outputs": [],
   "source": [
    "#PROGRAMA 3\n",
    "\n",
    "#Hash para string\n",
    "def hash(astr, M):\n",
    "    s = 0\n",
    "    # s conterá a soma dos valores numéricos dos caracteres\n",
    "    for chr in astr:\n",
    "        s = s + ord(chr)\n",
    "    print(astr,':',s)\n",
    "    return s % M\n",
    "\n",
    "#Funcao hash para o passo\n",
    "def hash2():\n",
    "    return 3 # valor da função - passo\n",
    "\n",
    "#Insere hash\n",
    "def insere_hash(a, x,orig):\n",
    "    M = len(a)\n",
    "    cont = 0\n",
    "    i = hash(x, M)\n",
    "    k = hash2()\n",
    "    \n",
    "    # tentar inserir x na tabela\n",
    "    if a[i] is None:\n",
    "        a[i] = [x]\n",
    "        return (i, None) #cria nova lista com nome\n",
    "    \n",
    "    # procura a próxima posição livre\n",
    "    while a[i] != None:\n",
    "        if a[i][0] == [x][0]:\n",
    "            #a[i].append(0)\n",
    "\n",
    "            return -1 # valor já existente na tabela\n",
    "        cont += 1 # conta os elementos da tabela\n",
    "        if cont == M: \n",
    "            return -2 # tabela cheia\n",
    "        i = (i + k) % M # tabela circular\n",
    "        #i = (i+1) % M\n",
    "        # achamos uma posição livre - coloque x nesta posição\n",
    "    a[i] = [x]\n",
    "    \n",
    "    #for z in a:\n",
    "        #if z != None:\n",
    "    #print(a)\n",
    "      #  indexes = [i for i, lst in enumerate([x[1] for x in orig]) if (a[i][0] in lst and a[i] != None)]\n",
    "       # a[i] += indexes\n",
    "\n",
    "    #return i\n"
   ]
  },
  {
   "cell_type": "code",
   "execution_count": 86,
   "id": "7b6d30f7",
   "metadata": {},
   "outputs": [
    {
     "name": "stdout",
     "output_type": "stream",
     "text": [
      "senizio : 769\n",
      "atomon : 654\n",
      "oscaran : 743\n",
      "mantega : 733\n",
      "catulo : 648\n",
      "olambro : 748\n",
      "sereno : 652\n",
      "mantega : 733\n",
      "osmund : 662\n",
      "romulo : 670\n",
      "[None, None, None, None, None, None, None, None, None, None, None, None, None, None, None, None, None, None, None, None, None, None, None, None, None, None, None, None, None, None, None, None, None, ['mantega', 0, 1, 6, 11, 20, 36, 37, 42, 49, 55, 57, 80, 81, 82, 83, 84, 85, 86, 87, 97], None, None, None, None, None, None, None, None, None, ['oscaran', 0, 15, 23, 27, 29, 32, 34, 47, 51, 58, 63, 64, 70, 76, 79, 80, 81, 82, 83, 97, 99], None, None, None, None, ['catulo', 1, 3, 5, 9, 13, 14, 19, 35, 37, 41, 43, 47, 50, 51, 65, 66, 68, 69], None, None, ['olambro', 1, 6, 7, 9, 10, 26, 30, 31, 34, 40, 44, 45, 48, 56, 58, 65, 71, 72, 88, 89, 90, 91, 96], ['sereno', 1, 3, 6, 10, 14, 16, 24, 33, 35, 37, 41, 60, 67, 75, 92, 93, 94, 95, 98], None, ['atomon', 0, 8, 14, 15, 27, 36, 55, 59, 61, 67, 73, 77, 80, 81, 82, 83], None, None, None, None, None, None, None, ['osmund', 2, 7, 12, 25, 30, 33, 48, 53, 60, 63, 75, 92, 93, 94, 95], None, None, None, None, None, None, ['senizio', 0, 8, 23, 27, 29, 56, 62, 70, 74, 77, 78, 79, 80, 81, 82, 83], ['romulo', 2, 3, 12, 16, 21, 29, 33, 37, 41, 42, 46, 50, 51, 52, 54, 62, 63], None, None, None, None, None, None, None, None, None, None, None, None, None, None, None, None, None, None, None, None, None, None, None, None, None, None, None, None, None]\n"
     ]
    }
   ],
   "source": [
    "tmax = 100\n",
    "tab = tmax*[None]\n",
    "#elem = ['antonio carlos','carlos antonio','carlos antonio','maria budega','joao carlos','carlos joao',\n",
    " #       'leo silva','bibibiu bobo','nina maria','lepo leleco','maria nina']\n",
    "\n",
    "#Pega apenas lista dos nomes\n",
    "lista_nomes = []\n",
    "nomes = [x[1].lower().split() for x in TAB]\n",
    "#elem = list(set(lista_nomes))\n",
    "\n",
    "for x in nomes:\n",
    "    lista_nomes += x\n",
    "\n",
    "elem = lista_nomes[:10]\n",
    "#elem = ['antonio','antonio','maria','oinotna','nina','lepo','iaram','sara','silva','aras','maria','maria']\n",
    "\n",
    "for el in elem:\n",
    "    insere_hash(tab,el,TAB)\n",
    "\n",
    "for z in tab:\n",
    "    if z != None:\n",
    "        \n",
    "        indexes = [i for i, lst in enumerate([x[1] for x in TAB]) if z[0].capitalize() in lst]\n",
    "        z += indexes\n",
    "        \n",
    "print(tab)"
   ]
  },
  {
   "cell_type": "code",
   "execution_count": 88,
   "id": "4f82c8a9",
   "metadata": {},
   "outputs": [
    {
     "data": {
      "text/plain": [
       "33"
      ]
     },
     "execution_count": 88,
     "metadata": {},
     "output_type": "execute_result"
    }
   ],
   "source": [
    "tab.index(['mantega', 0, 1, 6, 11, 20, 36, 37, 42, 49, 55, 57, 80, 81, 82, 83, 84, 85, 86, 87, 97])"
   ]
  },
  {
   "cell_type": "code",
   "execution_count": 89,
   "id": "d8036ef6",
   "metadata": {},
   "outputs": [
    {
     "data": {
      "text/plain": [
       "33"
      ]
     },
     "execution_count": 89,
     "metadata": {},
     "output_type": "execute_result"
    }
   ],
   "source": [
    "733%100"
   ]
  }
 ],
 "metadata": {
  "kernelspec": {
   "display_name": "Python 3",
   "language": "python",
   "name": "python3"
  },
  "language_info": {
   "codemirror_mode": {
    "name": "ipython",
    "version": 3
   },
   "file_extension": ".py",
   "mimetype": "text/x-python",
   "name": "python",
   "nbconvert_exporter": "python",
   "pygments_lexer": "ipython3",
   "version": "3.8.8"
  }
 },
 "nbformat": 4,
 "nbformat_minor": 5
}
