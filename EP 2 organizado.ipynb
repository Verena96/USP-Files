{
 "cells": [
  {
   "cell_type": "code",
   "execution_count": 3,
   "id": "b37975f0",
   "metadata": {},
   "outputs": [],
   "source": [
    "import datetime\n",
    "import time\n",
    "from operator import itemgetter\n",
    "\n",
    "def date_to_str(date_obj):\n",
    "    \n",
    "    if isinstance(date_obj,datetime.datetime):\n",
    "        date_obj = date_obj.strftime('%d/%m/%Y')\n",
    "    return date_obj\n",
    "\n",
    "def to_date(string):\n",
    "    \n",
    "    date = datetime.datetime.strptime(string, '%d/%m/%Y')\n",
    "    \n",
    "    return date"
   ]
  },
  {
   "cell_type": "code",
   "execution_count": 53,
   "id": "1fdd0d82",
   "metadata": {},
   "outputs": [],
   "source": [
    "#Método sort\n",
    "TAB=[['64', 'Tilenio Virino Talento Casas', '25/10/2014'],\n",
    " ['28', 'Jose Virino Talento Casas', '25/10/2014'],\n",
    " ['20', 'Osmund Olambro Talento Casas', '15/12/2004'],\n",
    " ['69', 'Catulo Romulo Soterno Lorentao', '08/10/2010'],\n",
    " ['24', 'Catulo Romulo Soterno Lorentao', '08/11/2010'],\n",
    " ['65', 'Senizio Olambro Soterno Lasmia', '06/11/2016'],\n",
    " ['35', 'Catulo Cartuxo Moncoes Melkioz', '16/05/2010']]"
   ]
  },
  {
   "cell_type": "code",
   "execution_count": 54,
   "id": "d3cd2000",
   "metadata": {},
   "outputs": [],
   "source": [
    "def ClassificaSort(sl,ordem):\n",
    "    \n",
    "    if ordem[0] == 3:\n",
    "\n",
    "        sl = sorted(TAB, key=lambda x: to_date(x[ordem[0]-1]))\n",
    "    else:\n",
    "        chave = ordem[0]\n",
    "    \n",
    "        sl = sorted(TAB, key=lambda x: x[chave -1])\n",
    "\n",
    "    for i in range(len(sl)-1):\n",
    "        #print(i)\n",
    "        if ordem[0] == 1: #ordena por id\n",
    "\n",
    "            if ordem[1] == 2: \n",
    "\n",
    "                #ids iguais e nomes diferentes\n",
    "                if (sl[i][0] == sl[i+1][0] and sl[i][1].lower() > sl[i+1][1].lower()):\n",
    "\n",
    "                    sl[i],sl[i+1] = sl[i+1], sl[i] \n",
    "\n",
    "            elif ordem[1] == 3: \n",
    "\n",
    "                #ids iguais e datas diferentes\n",
    "                if (sl[i][0] == sl[i+1][0] and to_date(sl[i][2]) > to_date(sl[i+1][2])):\n",
    "\n",
    "                    sl[i],sl[i+1] = sl[i+1], sl[i]\n",
    "\n",
    "        if ordem[0] == 2: #ordena por nome\n",
    "\n",
    "            if ordem[1] == 1:\n",
    "\n",
    "                #nomes iguais e ids diferentes\n",
    "                if (sl[i][1].lower() == sl[i+1][1].lower() and sl[i][0] > sl[i+1][0]):\n",
    "\n",
    "                    sl[i],sl[i+1] = sl[i+1], sl[i]\n",
    "\n",
    "            if ordem[1] == 3:\n",
    "\n",
    "                #nomes iguais e datas diferentes\n",
    "                if (sl[i][1].lower() == sl[i+1][1].lower() and to_date(sl[i][2]) > to_date(sl[i+1][2])):\n",
    "\n",
    "                    sl[i],sl[i+1] = sl[i+1], sl[i]\n",
    "\n",
    "\n",
    "\n",
    "        if ordem[0] == 3: #ordena por data\n",
    "            #return ordem_data(sl,i,ordem)\n",
    "\n",
    "            #print('ordem por data')\n",
    "\n",
    "            if ordem[1] == 1:\n",
    "\n",
    "                #print('ordem por id')\n",
    "                #print(i)\n",
    "                #datas iguais e ids diferentes\n",
    "                if (sl[i][2] == sl[i+1][2] and sl[i][0] > sl[i+1][0]):\n",
    "\n",
    "                    #print('siiiim')\n",
    "                    sl[i],sl[i+1] = sl[i+1], sl[i]\n",
    "\n",
    "\n",
    "\n",
    "            if ordem[1] == 2:\n",
    "\n",
    "                #datas iguais e nomes diferentes\n",
    "                if (sl[i][2] == sl[i+1][2] and sl[i][1].lower() > sl[i+1][1].lower()):\n",
    "\n",
    "                    sl[i],sl[i+1] = sl[i+1], sl[i]\n",
    "        \n",
    "    return sl\n",
    "    \n",
    "\n",
    "    \n",
    "\n",
    " \n"
   ]
  },
  {
   "cell_type": "code",
   "execution_count": 56,
   "id": "1105c7be",
   "metadata": {},
   "outputs": [
    {
     "data": {
      "text/plain": [
       "[['20', 'Osmund Olambro Talento Casas', '15/12/2004'],\n",
       " ['35', 'Catulo Cartuxo Moncoes Melkioz', '16/05/2010'],\n",
       " ['69', 'Catulo Romulo Soterno Lorentao', '08/10/2010'],\n",
       " ['24', 'Catulo Romulo Soterno Lorentao', '08/11/2010'],\n",
       " ['28', 'Jose Virino Talento Casas', '25/10/2014'],\n",
       " ['64', 'Tilenio Virino Talento Casas', '25/10/2014'],\n",
       " ['65', 'Senizio Olambro Soterno Lasmia', '06/11/2016']]"
      ]
     },
     "execution_count": 56,
     "metadata": {},
     "output_type": "execute_result"
    }
   ],
   "source": [
    "ordem = [3,2,1]\n",
    "ClassificaSort(TAB,ordem)"
   ]
  },
  {
   "cell_type": "code",
   "execution_count": null,
   "id": "2f181b22",
   "metadata": {},
   "outputs": [],
   "source": []
  },
  {
   "cell_type": "code",
   "execution_count": null,
   "id": "97d07079",
   "metadata": {},
   "outputs": [],
   "source": []
  },
  {
   "cell_type": "code",
   "execution_count": null,
   "id": "071f2bfe",
   "metadata": {},
   "outputs": [],
   "source": []
  },
  {
   "cell_type": "code",
   "execution_count": null,
   "id": "dc755016",
   "metadata": {},
   "outputs": [],
   "source": []
  },
  {
   "cell_type": "code",
   "execution_count": null,
   "id": "7ccb790a",
   "metadata": {},
   "outputs": [],
   "source": []
  },
  {
   "cell_type": "code",
   "execution_count": 37,
   "id": "8b5a18f4",
   "metadata": {},
   "outputs": [],
   "source": [
    "def ordem_data(sl,i,ordem):\n",
    "    \n",
    "    #if ordem[0] == 3: #ordena por data\n",
    "            #print('ordem por data')\n",
    "\n",
    "    if ordem[1] == 1:\n",
    "\n",
    "        #print('ordem por id')\n",
    "\n",
    "        #datas iguais e ids diferentes\n",
    "        if (sl[i][2] == sl[i+1][2] and sl[i][0] > sl[i+1][0]):\n",
    "\n",
    "            print('siiiim')\n",
    "            sl[i],sl[i+1] = sl[i+1], sl[i]\n",
    "\n",
    "\n",
    "\n",
    "    if ordem[1] == 2:\n",
    "\n",
    "        #datas iguais e nomes diferentes\n",
    "        if (sl[i][2] == sl[i+1][2] and sl[i][1].lower() > sl[i+1][1].lower()):\n",
    "\n",
    "            sl[i],sl[i+1] = sl[i+1], sl[i]\n",
    "        \n",
    "    return sl"
   ]
  },
  {
   "cell_type": "code",
   "execution_count": null,
   "id": "578a4b4a",
   "metadata": {},
   "outputs": [],
   "source": []
  },
  {
   "cell_type": "code",
   "execution_count": null,
   "id": "0e59bad2",
   "metadata": {},
   "outputs": [],
   "source": []
  },
  {
   "cell_type": "code",
   "execution_count": null,
   "id": "0be1c624",
   "metadata": {},
   "outputs": [],
   "source": []
  },
  {
   "cell_type": "code",
   "execution_count": null,
   "id": "26b4f931",
   "metadata": {},
   "outputs": [],
   "source": []
  },
  {
   "cell_type": "code",
   "execution_count": null,
   "id": "780cd69d",
   "metadata": {},
   "outputs": [],
   "source": []
  }
 ],
 "metadata": {
  "kernelspec": {
   "display_name": "Python 3",
   "language": "python",
   "name": "python3"
  },
  "language_info": {
   "codemirror_mode": {
    "name": "ipython",
    "version": 3
   },
   "file_extension": ".py",
   "mimetype": "text/x-python",
   "name": "python",
   "nbconvert_exporter": "python",
   "pygments_lexer": "ipython3",
   "version": "3.8.8"
  }
 },
 "nbformat": 4,
 "nbformat_minor": 5
}
